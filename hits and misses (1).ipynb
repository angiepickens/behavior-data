{
 "cells": [
  {
   "cell_type": "code",
   "execution_count": 13,
   "metadata": {
    "collapsed": false,
    "scrolled": true
   },
   "outputs": [
    {
     "name": "stdout",
     "output_type": "stream",
     "text": [
      "Trials: <HDF5 dataset \"Trials\": shape (186,), type \"|V536\">\n",
      "[0 4 1 4 3 3 4 4 4 1 1 3 3 1 4 4 4 2 1 4 4 4 6 4 6 4 2 2 3 5 1 4 4 4 2 1 4\n",
      " 4 6 4 4 2 4 2 4 2 2 2 1 3 4 5 1 3 6 3 4 1 4 4 4 4 4 2 1 6 4 2 2 1 4 4 4 2\n",
      " 4 4 2 4 4 4 4 6 2 2 2 3 3 1 4 2 1 4 1 4 4 4 6 6 6 6 2 6 3 3 3 1 4 6 6 6 6\n",
      " 6 6 6 3 6 1 1 4 6 2 1 4 2 4 4 4 4 6 4 4 6 6 6 6 6 6 6 6 6 6 6 4 6 6 6 6 6\n",
      " 6 4 6 6 6 6 4 6 6 2 3 1 6 1 6 4 6 6 3 1 6 6 4 6 6 2 6 3 1 2 3 1 4 6 6 6 6\n",
      " 0]\n",
      "186\n",
      "None\n",
      "trials: 186\n",
      "hits: 48\n",
      "misses: 59\n",
      "percent correct: 0.258064516129\n",
      "37.7952755906\n",
      "37.80 %; 48 H; 59 M; 186 T; mouse9493_sess1_D2017_3_27T13_49_37.h5\n"
     ]
    }
   ],
   "source": [
    "from __future__ import division\n",
    "import numpy as np\n",
    "import h5py"
   ]
  },
  {
   "cell_type": "code",
   "execution_count": null,
   "metadata": {
    "collapsed": true
   },
   "outputs": [],
   "source": [
    "filename = 'mouse9493_sess1_D2017_3_27T13_49_37.h5'\n",
    "data = h5py.File('C:\\VoyeurData\\{}'.format(filename), 'r')"
   ]
  },
  {
   "cell_type": "code",
   "execution_count": null,
   "metadata": {
    "collapsed": true
   },
   "outputs": [],
   "source": [
    "Trials = data.get(u'Trials')\n",
    "results = Trials['result']\n",
    "hits = 0\n",
    "misses = 0\n",
    "trials = 0\n",
    "\n",
    "for i in xrange(len(results)):\n",
    "    trials +=1\n",
    "    if (results[i] == 1 or results [i] == 2):\n",
    "        hits += 1\n",
    "    elif results[i] > 4:\n",
    "        misses += 1\n",
    "        \n",
    "percent_correct = hits/trials\n",
    "pc = 100*hits/(trials-misses)\n",
    "\n",
    "print 'trials:', trials\n",
    "print 'hits:', hits\n",
    "print 'misses:', misses\n",
    "print 'percent correct:', percent_correct\n",
    "print pc\n",
    "print '{0:.2f}'.format(pc),'%;', hits,'H;', misses,'M;', trials,'T;', filename"
   ]
  }
 ],
 "metadata": {
  "kernelspec": {
   "display_name": "Python 2",
   "language": "python",
   "name": "python2"
  },
  "language_info": {
   "codemirror_mode": {
    "name": "ipython",
    "version": 2
   },
   "file_extension": ".py",
   "mimetype": "text/x-python",
   "name": "python",
   "nbconvert_exporter": "python",
   "pygments_lexer": "ipython2",
   "version": "2.7.12"
  }
 },
 "nbformat": 4,
 "nbformat_minor": 0
}
